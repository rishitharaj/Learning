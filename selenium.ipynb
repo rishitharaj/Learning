{
 "cells": [
  {
   "cell_type": "code",
   "execution_count": 51,
   "id": "e2cc8117",
   "metadata": {},
   "outputs": [],
   "source": [
    "from selenium import webdriver\n",
    "from selenium.webdriver.common.by import By\n",
    "import pandas as pd"
   ]
  },
  {
   "cell_type": "code",
   "execution_count": 52,
   "id": "dcaa492c",
   "metadata": {},
   "outputs": [],
   "source": [
    "driver = webdriver.Chrome()"
   ]
  },
  {
   "cell_type": "code",
   "execution_count": null,
   "id": "6261ec26",
   "metadata": {},
   "outputs": [],
   "source": [
    "#import requests"
   ]
  },
  {
   "cell_type": "code",
   "execution_count": null,
   "id": "8529f01f",
   "metadata": {},
   "outputs": [
    {
     "data": {
      "text/plain": [
       "<Response [200]>"
      ]
     },
     "execution_count": 16,
     "metadata": {},
     "output_type": "execute_result"
    }
   ],
   "source": [
    "#requests.get('https://www.flipkart.com/search?q=mobile+phones&otracker=search&otracker1=search&marketplace=FLIPKART&as-show=on&as=off&page=1')"
   ]
  },
  {
   "cell_type": "code",
   "execution_count": 17,
   "id": "f246a218",
   "metadata": {},
   "outputs": [],
   "source": [
    "driver.get('https://www.flipkart.com/search?q=mobile+phones&otracker=search&otracker1=search&marketplace=FLIPKART&as-show=on&as=off&page=1')"
   ]
  },
  {
   "cell_type": "code",
   "execution_count": 18,
   "id": "cbfd8a06",
   "metadata": {},
   "outputs": [],
   "source": [
    "driver.maximize_window()"
   ]
  },
  {
   "cell_type": "code",
   "execution_count": 20,
   "id": "dd798200",
   "metadata": {},
   "outputs": [
    {
     "name": "stdout",
     "output_type": "stream",
     "text": [
      "24\n"
     ]
    }
   ],
   "source": [
    "containers = driver.find_elements(By.CSS_SELECTOR,'div[class=\"yKfJKb row\"]')\n",
    "print(len(containers))"
   ]
  },
  {
   "cell_type": "code",
   "execution_count": 24,
   "id": "3cda95b7",
   "metadata": {},
   "outputs": [
    {
     "data": {
      "text/plain": [
       "'Nothing Phone (3) (White, 512 GB)'"
      ]
     },
     "execution_count": 24,
     "metadata": {},
     "output_type": "execute_result"
    }
   ],
   "source": [
    "containers[0].find_element(By.CSS_SELECTOR,'div[class=\"KzDlHZ\"]').text.strip()"
   ]
  },
  {
   "cell_type": "code",
   "execution_count": 28,
   "id": "0682db48",
   "metadata": {},
   "outputs": [
    {
     "data": {
      "text/plain": [
       "'₹89,999'"
      ]
     },
     "execution_count": 28,
     "metadata": {},
     "output_type": "execute_result"
    }
   ],
   "source": [
    "containers[0].find_element(By.CSS_SELECTOR,'div[class=\"Nx9bqj _4b5DiR\"]').text"
   ]
  },
  {
   "cell_type": "code",
   "execution_count": 30,
   "id": "d2f0e619",
   "metadata": {},
   "outputs": [
    {
     "name": "stdout",
     "output_type": "stream",
     "text": [
      "Nothing Phone (3) (White, 512 GB)\n",
      "₹89,999\n"
     ]
    }
   ],
   "source": [
    "for container in containers:\n",
    "    name = container.find_element(By.CSS_SELECTOR,'div[class=\"KzDlHZ\"]').text.strip()\n",
    "    print(name)\n",
    "    price = container.find_element(By.CSS_SELECTOR,'div[class=\"Nx9bqj _4b5DiR\"]').text\n",
    "    print(price)\n",
    "    break"
   ]
  },
  {
   "cell_type": "code",
   "execution_count": null,
   "id": "3ee0ee6f",
   "metadata": {},
   "outputs": [],
   "source": []
  },
  {
   "cell_type": "code",
   "execution_count": null,
   "id": "473d7e8b",
   "metadata": {},
   "outputs": [],
   "source": []
  },
  {
   "cell_type": "code",
   "execution_count": null,
   "id": "c9ecce83",
   "metadata": {},
   "outputs": [],
   "source": []
  },
  {
   "cell_type": "code",
   "execution_count": 32,
   "id": "8d646396",
   "metadata": {},
   "outputs": [
    {
     "name": "stdout",
     "output_type": "stream",
     "text": [
      "{'name': 'Nothing Phone (3) (White, 512 GB)', 'price': '₹89,999', 'rating': '4.4'}\n",
      "{'name': 'realme P4 Pro 5G (Dark Oak Wood, 256 GB)', 'price': '₹26,999', 'rating': '4.4'}\n",
      "{'name': 'Ai+ Pulse (Pink, 64 GB)', 'price': '₹4,999', 'rating': '4.3'}\n",
      "{'name': 'realme C61 (Safari Green, 64 GB)', 'price': '₹5,799', 'rating': '4.4'}\n",
      "{'name': 'Nothing Phone (3) (White, 256 GB)', 'price': '₹79,999', 'rating': '4.4'}\n",
      "{'name': 'Google Pixel 9A (Porcelain, 256 GB)', 'price': '₹44,999', 'rating': '4.4'}\n",
      "{'name': 'POCO C71 (Cool Blue, 128 GB)', 'price': '₹6,799', 'rating': '4.1'}\n",
      "{'name': 'POCO C75 5G (Aqua Bliss, 64 GB)', 'price': '₹7,299', 'rating': '4.2'}\n",
      "{'name': 'realme C61 (Marble Black, 64 GB)', 'price': '₹5,799', 'rating': '4.4'}\n",
      "{'name': 'Samsung Galaxy F06 5G (Bahama Blue, 64 GB)', 'price': '₹7,499', 'rating': '4.1'}\n",
      "{'name': 'Nothing Phone (3) (Black, 512 GB)', 'price': '₹89,999', 'rating': '4.4'}\n",
      "{'name': 'vivo T4 5G (Phantom Grey, 128 GB)', 'price': '₹20,999', 'rating': '4.5'}\n",
      "{'name': 'POCO C71 - Locked with Airtel Prepaid (Power Black, 64 GB)', 'price': '₹5,599', 'rating': '3.9'}\n",
      "{'name': 'vivo T4x 5G (Glacial Teal, 128 GB)', 'price': '₹13,499', 'rating': '4.4'}\n",
      "{'name': 'OPPO K13x 5G 6000mAh and 45W SUPERVOOC Charger & AI (Sunset Peach, 128 GB)', 'price': '₹11,999', 'rating': '4.5'}\n",
      "{'name': 'Nokia 105 Single SIM, Keypad Mobile Phone with Wireless FM Radio', 'price': '₹1,239', 'rating': '3.8'}\n",
      "{'name': 'Google Pixel 9A (Obsidian, 256 GB)', 'price': '₹44,999', 'rating': '4.4'}\n",
      "{'name': 'Google Pixel 9A (Iris, 256 GB)', 'price': '₹44,999', 'rating': '4.4'}\n",
      "{'name': 'MOTOROLA G96 5G (Pantone Greener Pastures, 128 GB)', 'price': '₹15,999', 'rating': '4.4'}\n",
      "{'name': 'MOTOROLA g05 (Plum Red, 64 GB)', 'price': '₹6,999', 'rating': '4.2'}\n",
      "{'name': 'vivo T4 5G (Emerald Blaze, 128 GB)', 'price': '₹20,999', 'rating': '4.5'}\n",
      "{'name': 'realme P4 Pro 5G (Midnight Ivy, 128 GB)', 'price': '₹22,999', 'rating': '4.4'}\n",
      "{'name': 'POCO C71 (Power Black, 128 GB)', 'price': '₹6,799', 'rating': '4.1'}\n",
      "{'name': 'Samsung Galaxy F06 5G (Bahama Blue, 128 GB)', 'price': '₹8,999', 'rating': '4.2'}\n"
     ]
    }
   ],
   "source": [
    "for container in containers:\n",
    "    name = container.find_element(By.CSS_SELECTOR,'div[class=\"KzDlHZ\"]').text.strip()\n",
    "    #print(name)\n",
    "    price = container.find_element(By.CSS_SELECTOR,'div[class=\"Nx9bqj _4b5DiR\"]').text.strip()\n",
    "    #print(price)\n",
    "    rating = container.find_element(By.CSS_SELECTOR,'div[class=\"XQDdHH\"]').text.strip()\n",
    "    #print(rating)\n",
    "    data = {'name':name,'price':price,'rating':rating}\n",
    "    print(data)\n",
    "    \n",
    "    \n"
   ]
  },
  {
   "cell_type": "code",
   "execution_count": 7,
   "id": "ab4fd81b",
   "metadata": {},
   "outputs": [],
   "source": [
    "name = containers[0].find_element(By.CSS_SELECTOR,'div[class=\"KzDlHZ\"]').text.strip()"
   ]
  },
  {
   "cell_type": "code",
   "execution_count": 8,
   "id": "520d8ebc",
   "metadata": {},
   "outputs": [
    {
     "name": "stdout",
     "output_type": "stream",
     "text": [
      "₹89,999\n"
     ]
    }
   ],
   "source": [
    "price = containers[0].find_element(By.CSS_SELECTOR,'div[class=\"Nx9bqj _4b5DiR\"]').text.strip()\n",
    "print(price)"
   ]
  },
  {
   "cell_type": "code",
   "execution_count": 9,
   "id": "688c10f5",
   "metadata": {},
   "outputs": [
    {
     "name": "stdout",
     "output_type": "stream",
     "text": [
      "4.4\n"
     ]
    }
   ],
   "source": [
    "rating = containers[0].find_element(By.CSS_SELECTOR,'div[class=\"XQDdHH\"]').text.strip()\n",
    "print(rating)"
   ]
  },
  {
   "cell_type": "code",
   "execution_count": 10,
   "id": "52f8a7c8",
   "metadata": {},
   "outputs": [],
   "source": [
    "import time"
   ]
  },
  {
   "cell_type": "code",
   "execution_count": null,
   "id": "e44933f8",
   "metadata": {},
   "outputs": [],
   "source": [
    "##################################################################################################################################"
   ]
  },
  {
   "cell_type": "code",
   "execution_count": 35,
   "id": "47059844",
   "metadata": {},
   "outputs": [],
   "source": [
    "driver.find_element(By.CSS_SELECTOR,'input[class=\"zDPmFV\"]').send_keys('fashion')"
   ]
  },
  {
   "cell_type": "code",
   "execution_count": 36,
   "id": "7be1fb9d",
   "metadata": {},
   "outputs": [],
   "source": [
    "driver.find_element(By.CSS_SELECTOR,'button[class=\"MJG8Up\"]').click()"
   ]
  },
  {
   "cell_type": "code",
   "execution_count": 11,
   "id": "4ea47f29",
   "metadata": {},
   "outputs": [],
   "source": [
    "driver.find_element(By.CSS_SELECTOR,'input[class=\"zDPmFV\"]').send_keys('fashion')"
   ]
  },
  {
   "cell_type": "code",
   "execution_count": 38,
   "id": "399c3f9f",
   "metadata": {},
   "outputs": [
    {
     "data": {
      "text/plain": [
       "40"
      ]
     },
     "execution_count": 38,
     "metadata": {},
     "output_type": "execute_result"
    }
   ],
   "source": [
    "f_containers = driver.find_elements(By.CSS_SELECTOR,'div[class=\"_1sdMkc LFEi7Z\"]')\n",
    "len(f_containers)"
   ]
  },
  {
   "cell_type": "code",
   "execution_count": 40,
   "id": "8ef43397",
   "metadata": {},
   "outputs": [
    {
     "data": {
      "text/plain": [
       "'https://rukminim2.flixcart.com/image/612/612/kpinwy80/sari/r/2/j/free-37765-monjolika-fashion-unstitched-original-imag3qjrtpm7g66f.jpeg?q=70'"
      ]
     },
     "execution_count": 40,
     "metadata": {},
     "output_type": "execute_result"
    }
   ],
   "source": [
    "f_containers[0].find_element(By.CSS_SELECTOR,'div[class=\"gqcSqV YGE0gZ\"]>img').get_attribute('src')"
   ]
  },
  {
   "cell_type": "code",
   "execution_count": 46,
   "id": "44d90710",
   "metadata": {},
   "outputs": [],
   "source": [
    "import numpy as np"
   ]
  },
  {
   "cell_type": "code",
   "execution_count": 47,
   "id": "c677d671",
   "metadata": {},
   "outputs": [
    {
     "name": "stdout",
     "output_type": "stream",
     "text": [
      "Woven Banarasi Pure Silk Saree\n",
      "Embroidered Baluchari Organza Saree\n",
      "nan\n",
      "Embroidered Bollywood Net Saree\n",
      "nan\n",
      "nan\n",
      "nan\n",
      "nan\n",
      "nan\n",
      "Embroidered Bollywood Net Saree\n",
      "nan\n",
      "nan\n",
      "nan\n",
      "nan\n",
      "Self Design Bollywood Georgette Saree\n",
      "nan\n",
      "Self Design, Striped, Dyed Bollywood Chiffon Saree\n",
      "Solid/Plain Bollywood Cotton Silk Saree\n",
      "Solid/Plain Bollywood Cotton Silk Saree\n",
      "Solid/Plain Bollywood Cotton Silk Saree\n",
      "Solid/Plain Daily Wear Cotton Silk Saree\n",
      "nan\n",
      "nan\n",
      "nan\n",
      "nan\n",
      "nan\n",
      "Embellished Bollywood Georgette Saree\n",
      "nan\n",
      "Self Design Daily Wear Pure Cotton Saree\n",
      "nan\n",
      "nan\n",
      "Embellished Banarasi Georgette Saree\n",
      "nan\n",
      "Embellished Bollywood Georgette Saree\n",
      "nan\n",
      "nan\n",
      "Embroidered Bollywood Georgette Saree\n",
      "nan\n",
      "nan\n",
      "nan\n"
     ]
    }
   ],
   "source": [
    "for container in f_containers:\n",
    "    try:\n",
    "        name = container.find_element(By.CSS_SELECTOR,'a[class=\"WKTcLC\"]').get_attribute('title')\n",
    "        print(name)\n",
    "    except:\n",
    "        name = np.nan\n",
    "        print(name)\n",
    "    "
   ]
  },
  {
   "cell_type": "code",
   "execution_count": 12,
   "id": "63a7539d",
   "metadata": {},
   "outputs": [],
   "source": [
    "driver.find_element(By.CSS_SELECTOR,'button[class=\"MJG8Up\"]').click()"
   ]
  },
  {
   "cell_type": "code",
   "execution_count": null,
   "id": "d9755917",
   "metadata": {},
   "outputs": [],
   "source": [
    "######################################################################################################################"
   ]
  },
  {
   "cell_type": "code",
   "execution_count": 48,
   "id": "1319ca06",
   "metadata": {},
   "outputs": [],
   "source": [
    "output_csv = 'flipkart_sample.csv'\n",
    "columns = ['name', 'price', 'rating']\n",
    "pd.DataFrame(columns=columns).to_csv(output_csv, index=False)\n"
   ]
  },
  {
   "cell_type": "code",
   "execution_count": 49,
   "id": "e7801822",
   "metadata": {},
   "outputs": [],
   "source": [
    "import time"
   ]
  },
  {
   "cell_type": "code",
   "execution_count": 54,
   "id": "03151773",
   "metadata": {},
   "outputs": [
    {
     "name": "stdout",
     "output_type": "stream",
     "text": [
      "{'name': 'Nothing Phone (3) (Black, 256 GB)', 'price': '₹79,999', 'rating': '4.4'}\n",
      "{'name': 'Nothing Phone (3) (White, 256 GB)', 'price': '₹79,999', 'rating': '4.4'}\n",
      "{'name': 'Nothing Phone (3a) (White, 128 GB)', 'price': '₹23,999', 'rating': '4.5'}\n",
      "{'name': 'itel it5330 | 2.8 inch Big Display | 1900 mAh Battery | Kingvoice', 'price': '₹1,349', 'rating': '4.1'}\n",
      "{'name': 'Google Pixel 9A (Porcelain, 256 GB)', 'price': '₹44,999', 'rating': '4.4'}\n",
      "{'name': 'vivo T4 5G (Phantom Grey, 128 GB)', 'price': '₹20,999', 'rating': '4.5'}\n",
      "{'name': 'MOTOROLA G96 5G (Pantone Cattleya Orchid, 256 GB)', 'price': '₹17,999', 'rating': '4.4'}\n",
      "{'name': 'OPPO K13 5G with 7000mAh and 80W SUPERVOOC Charger In-The-Box (Icy Purple, 256 GB)', 'price': '₹19,999', 'rating': '4.5'}\n",
      "{'name': 'Samsung Galaxy F36 5G (Black, 128 GB)', 'price': '₹13,999', 'rating': '4.3'}\n",
      "{'name': 'realme P4 5G (Engine Blue, 128 GB)', 'price': '₹17,999', 'rating': '4.4'}\n",
      "{'name': 'Nothing Phone (3) (Black, 512 GB)', 'price': '₹89,999', 'rating': '4.4'}\n",
      "{'name': 'Google Pixel 9A (Obsidian, 256 GB)', 'price': '₹44,999', 'rating': '4.4'}\n",
      "{'name': 'IQOO Z10X 5G (Ultramarine, 128 GB)', 'price': '₹13,105', 'rating': '4.4'}\n",
      "{'name': 'realme P4 5G (Forge Red, 128 GB)', 'price': '₹16,999', 'rating': '4.5'}\n",
      "{'name': 'Google Pixel 9A (Iris, 256 GB)', 'price': '₹44,999', 'rating': '4.4'}\n",
      "{'name': 'vivo T4 5G (Emerald Blaze, 128 GB)', 'price': '₹20,999', 'rating': '4.5'}\n",
      "{'name': 'CMF by Nothing Phone 2 Pro (Black, 128 GB)', 'price': '₹16,999', 'rating': '4.4'}\n",
      "{'name': 'vivo T4R 5G (Twilight Blue, 256 GB)', 'price': '₹21,499', 'rating': '4.5'}\n",
      "{'name': 'POCO M6 Plus 5G (Misty Lavender, 128 GB)', 'price': '₹10,599', 'rating': '4.2'}\n",
      "{'name': 'vivo T4 Lite 5G Charger in the Box (Prism Blue, 256 GB)', 'price': '₹12,999', 'rating': '4.3'}\n",
      "{'name': 'realme P4 Pro 5G (Midnight Ivy, 128 GB)', 'price': '₹22,999', 'rating': '4.4'}\n",
      "{'name': 'Google Pixel 10 (Frost, 256 GB)', 'price': '₹79,999', 'rating': '4.4'}\n",
      "{'name': 'POCO M6 Plus 5G (Graphite Black, 128 GB)', 'price': '₹10,599', 'rating': '4.2'}\n",
      "{'name': 'IQOO Z10X 5G (Titanium, 128 GB)', 'price': '₹13,390', 'rating': '4.4'}\n",
      "Scraping complete. Data saved to flipkart_sample1.csv\n",
      "{'name': 'Nothing Phone (3) (Black, 256 GB)', 'price': '₹79,999', 'rating': '4.4'}\n",
      "{'name': 'Nothing Phone (3) (White, 256 GB)', 'price': '₹79,999', 'rating': '4.4'}\n",
      "{'name': 'OPPO K13 Turbo 5G (White Knight, 256 GB)', 'price': '₹24,999', 'rating': '4.5'}\n",
      "{'name': 'OPPO K13 Turbo 5G (Midnight Maverick, 128 GB)', 'price': '₹22,999', 'rating': '4.5'}\n",
      "{'name': 'OPPO K13 Turbo 5G (White Knight, 128 GB)', 'price': '₹22,999', 'rating': '4.5'}\n",
      "{'name': 'MOTOROLA G86 Power 5G (Pantone Cosmic Sky, 128 GB)', 'price': '₹15,999', 'rating': '4.3'}\n",
      "{'name': 'Google Pixel 9A (Porcelain, 256 GB)', 'price': '₹44,999', 'rating': '4.4'}\n",
      "{'name': 'vivo T4 5G (Phantom Grey, 128 GB)', 'price': '₹20,999', 'rating': '4.5'}\n",
      "{'name': 'REDMI Note 14 SE 5G (Crimson Art, 128 GB)', 'price': '₹12,999', 'rating': '4.2'}\n",
      "{'name': 'MOTOROLA Edge 60 Pro (Pantone Shadow, 256 GB)', 'price': '₹26,999', 'rating': '4.3'}\n",
      "{'name': 'Nothing Phone (3) (Black, 512 GB)', 'price': '₹89,999', 'rating': '4.4'}\n",
      "{'name': 'Google Pixel 9A (Obsidian, 256 GB)', 'price': '₹44,999', 'rating': '4.4'}\n",
      "{'name': 'Apple iPhone 17 (Lavender, 256 GB)', 'price': '₹82,900', 'rating': '4.7'}\n",
      "{'name': 'Nothing Phone (3a) (Blue, 128 GB)', 'price': '₹23,999', 'rating': '4.5'}\n",
      "{'name': 'OPPO K13 Turbo 5G (Purple Phantom, 256 GB)', 'price': '₹24,999', 'rating': '4.5'}\n",
      "{'name': 'OPPO K13 Turbo 5G (Purple Phantom, 128 GB)', 'price': '₹22,999', 'rating': '4.5'}\n",
      "{'name': 'Google Pixel 9A (Iris, 256 GB)', 'price': '₹44,999', 'rating': '4.4'}\n",
      "{'name': 'vivo T4 5G (Emerald Blaze, 128 GB)', 'price': '₹20,999', 'rating': '4.5'}\n",
      "{'name': 'Samsung Galaxy F06 5G (Lit Violet, 128 GB)', 'price': '₹8,999', 'rating': '4.2'}\n",
      "{'name': 'vivo T4x 5G (Glacial Teal, 128 GB)', 'price': '₹13,499', 'rating': '4.4'}\n",
      "{'name': 'realme P4 Pro 5G (Midnight Ivy, 128 GB)', 'price': '₹22,999', 'rating': '4.4'}\n",
      "{'name': 'Google Pixel 10 (Frost, 256 GB)', 'price': '₹79,999', 'rating': '4.4'}\n",
      "{'name': 'Apple iPhone 14 (Starlight, 128 GB)', 'price': '₹52,900', 'rating': '4.6'}\n",
      "{'name': 'Nothing Phone (3a) (White, 128 GB)', 'price': '₹23,999', 'rating': '4.5'}\n",
      "Scraping complete. Data saved to flipkart_sample1.csv\n",
      "{'name': 'MOTOROLA Edge 60 Fusion 5G (PANTONE Zephyr, 256 GB)', 'price': '₹22,999', 'rating': '4.5'}\n",
      "{'name': 'Samsung Galaxy F36 5G (Violet, 128 GB)', 'price': '₹13,999', 'rating': '4.3'}\n",
      "{'name': 'Nothing Phone (3) (Black, 256 GB)', 'price': '₹79,999', 'rating': '4.4'}\n",
      "{'name': 'Nothing Phone (3) (White, 256 GB)', 'price': '₹79,999', 'rating': '4.4'}\n",
      "{'name': 'vivo T4 5G (Phantom Grey, 128 GB)', 'price': '₹20,999', 'rating': '4.5'}\n",
      "{'name': 'Ai+ Pulse (Purple, 64 GB)', 'price': '₹4,999', 'rating': '4.3'}\n",
      "{'name': 'Google Pixel 9A (Porcelain, 256 GB)', 'price': '₹44,999', 'rating': '4.4'}\n",
      "{'name': 'Nothing Phone (3) (Black, 512 GB)', 'price': '₹89,999', 'rating': '4.4'}\n",
      "{'name': 'Apple iPhone 16 (Pink, 256 GB)', 'price': '₹77,900', 'rating': '4.6'}\n",
      "{'name': 'realme P3 Lite 5G Charger in the Box (Lily White, 128 GB)', 'price': '₹10,499', 'rating': '4.5'}\n",
      "{'name': 'Motorola G85 5G (Viva Magenta, 128 GB)', 'price': '₹15,999', 'rating': '4.4'}\n",
      "{'name': 'Samsung Galaxy F36 5G (Black, 128 GB)', 'price': '₹13,999', 'rating': '4.3'}\n",
      "{'name': 'Google Pixel 9A (Obsidian, 256 GB)', 'price': '₹44,999', 'rating': '4.4'}\n",
      "{'name': 'Google Pixel 9A (Iris, 256 GB)', 'price': '₹44,999', 'rating': '4.4'}\n",
      "{'name': 'Nothing Phone (3a) (Blue, 256 GB)', 'price': '₹25,999', 'rating': '4.5'}\n",
      "{'name': 'vivo T4 5G (Emerald Blaze, 256 GB)', 'price': '₹22,999', 'rating': '4.5'}\n",
      "{'name': 'vivo T4 5G (Emerald Blaze, 128 GB)', 'price': '₹20,999', 'rating': '4.5'}\n",
      "{'name': 'realme P4 Pro 5G (Midnight Ivy, 128 GB)', 'price': '₹22,999', 'rating': '4.4'}\n",
      "{'name': 'vivo T4 5G (Emerald Blaze, 256 GB)', 'price': '₹24,999', 'rating': '4.5'}\n",
      "{'name': 'vivo T4 5G (Phantom Grey, 256 GB)', 'price': '₹22,999', 'rating': '4.5'}\n",
      "{'name': 'realme P3 Lite 5G Charger in the Box (Midnight Lily, 128 GB)', 'price': '₹10,499', 'rating': '4.5'}\n",
      "{'name': 'HOTLINE Turtle-5', 'price': '₹499', 'rating': '4.6'}\n",
      "{'name': 'Google Pixel 10 (Frost, 256 GB)', 'price': '₹79,999', 'rating': '4.4'}\n",
      "{'name': 'Google Pixel 10 (Obsidian, 256 GB)', 'price': '₹79,999', 'rating': '4.4'}\n",
      "Scraping complete. Data saved to flipkart_sample1.csv\n",
      "{'name': 'realme P4 5G (Steel Grey, 256 GB)', 'price': '₹19,999', 'rating': '4.4'}\n",
      "{'name': 'realme P4 5G (Engine Blue, 128 GB)', 'price': '₹17,999', 'rating': '4.4'}\n",
      "{'name': 'Nothing Phone (3) (Black, 256 GB)', 'price': '₹79,999', 'rating': '4.4'}\n",
      "{'name': 'Nothing Phone (3) (White, 256 GB)', 'price': '₹79,999', 'rating': '4.4'}\n",
      "{'name': 'Apple iPhone 17 (Black, 256 GB)', 'price': '₹82,900', 'rating': '4.7'}\n",
      "{'name': 'POCO M7 5G (Ocean Blue, 128 GB)', 'price': '₹9,499', 'rating': '4.2'}\n",
      "{'name': 'OnePlus Nord 5�5G (Marble Sands, 256 GB)', 'price': '₹31,997', 'rating': '4.5'}\n",
      "{'name': 'Samsung Galaxy S24 Ultra 5G (Titanium Black, 256 GB)', 'price': '₹78,895', 'rating': '4.6'}\n",
      "{'name': 'Google Pixel 9A (Porcelain, 256 GB)', 'price': '₹44,999', 'rating': '4.4'}\n",
      "{'name': 'vivo T4 5G (Phantom Grey, 128 GB)', 'price': '₹20,999', 'rating': '4.5'}\n",
      "{'name': 'realme Narzo 80 Lite 5G (Onyx Black, 128 GB)', 'price': '₹10,586', 'rating': '4.3'}\n",
      "{'name': 'Nothing Phone (3a) (Black, 256 GB)', 'price': '₹25,999', 'rating': '4.5'}\n",
      "{'name': 'Nothing Phone (3) (Black, 512 GB)', 'price': '₹89,999', 'rating': '4.4'}\n",
      "{'name': 'Google Pixel 9A (Obsidian, 256 GB)', 'price': '₹44,999', 'rating': '4.4'}\n",
      "{'name': 'Samsung Galaxy A55 5G (Awesome Iceblue, 256 GB)', 'price': '₹27,375', 'rating': '4.4'}\n",
      "{'name': 'Motorola G85 5G (Olive Green, 128 GB)', 'price': '₹15,999', 'rating': '4.4'}\n",
      "{'name': 'Samsung Galaxy S24 5G Snapdragon (Marble Gray, 128 GB)', 'price': '₹39,999', 'rating': '4.6'}\n",
      "{'name': 'POCO M7 Pro 5G (Lavender Frost, 128 GB)', 'price': '₹11,499', 'rating': '4.3'}\n",
      "{'name': 'Google Pixel 9A (Iris, 256 GB)', 'price': '₹44,999', 'rating': '4.4'}\n",
      "{'name': 'vivo T4 5G (Emerald Blaze, 128 GB)', 'price': '₹20,999', 'rating': '4.5'}\n",
      "{'name': 'realme P3 Pro 5G (Saturn Brown, 256 GB)', 'price': '₹17,999', 'rating': '4.4'}\n",
      "{'name': 'realme P3 Pro 5G (Galaxy Purple, 128 GB)', 'price': '₹15,999', 'rating': '4.4'}\n",
      "{'name': 'realme P4 Pro 5G (Midnight Ivy, 128 GB)', 'price': '₹22,999', 'rating': '4.4'}\n",
      "{'name': 'Google Pixel 10 (Frost, 256 GB)', 'price': '₹79,999', 'rating': '4.4'}\n",
      "Scraping complete. Data saved to flipkart_sample1.csv\n",
      "{'name': 'itel it5330 | 2.8 inch Big Display | 1900 mAh Battery | Kingvoice', 'price': '₹1,349', 'rating': '4.1'}\n",
      "{'name': 'Ai+ Nova 5G (Purple, 128 GB)', 'price': '₹7,999', 'rating': '4.1'}\n",
      "{'name': 'Apple iPhone 17 (Mist Blue, 256 GB)', 'price': '₹82,900', 'rating': '4.7'}\n",
      "{'name': 'IQOO Z10X 5G (Ultramarine, 256 GB)', 'price': '₹16,190', 'rating': '4.4'}\n",
      "{'name': 'Nothing Phone (3) (Black, 256 GB)', 'price': '₹79,999', 'rating': '4.4'}\n",
      "{'name': 'Nothing Phone (3) (White, 256 GB)', 'price': '₹79,999', 'rating': '4.4'}\n",
      "{'name': 'Samsung Galaxy F07 (Green, 64 GB)', 'price': '₹6,799', 'rating': '4.3'}\n",
      "{'name': 'Ai+ Nova 5G (Green, 128 GB)', 'price': '₹7,999', 'rating': '4.1'}\n",
      "{'name': 'Google Pixel 9A (Porcelain, 256 GB)', 'price': '₹44,999', 'rating': '4.4'}\n",
      "{'name': 'vivo T4 5G (Phantom Grey, 128 GB)', 'price': '₹20,999', 'rating': '4.5'}\n",
      "{'name': 'Nothing Phone (3a) Pro (Grey, 128 GB)', 'price': '₹27,999', 'rating': '4.5'}\n",
      "{'name': 'Nothing Phone (3a) Pro (Black, 256 GB)', 'price': '₹31,999', 'rating': '4.5'}\n",
      "{'name': 'Nothing Phone (3a) Pro (Grey, 256 GB)', 'price': '₹29,999', 'rating': '4.5'}\n",
      "{'name': 'Samsung Galaxy F06 5G (Lit Violet, 64 GB)', 'price': '₹7,499', 'rating': '4.1'}\n",
      "{'name': 'Nothing Phone (3) (Black, 512 GB)', 'price': '₹89,999', 'rating': '4.4'}\n",
      "{'name': 'Google Pixel 9A (Obsidian, 256 GB)', 'price': '₹44,999', 'rating': '4.4'}\n",
      "{'name': 'realme Narzo 80 Lite 4G (Beach Gold, 128 GB)', 'price': '₹7,757', 'rating': '4.3'}\n",
      "{'name': 'Kechaoda A26_Pink', 'price': '₹888', 'rating': '4'}\n",
      "{'name': 'Google Pixel 9A (Iris, 256 GB)', 'price': '₹44,999', 'rating': '4.4'}\n",
      "{'name': 'vivo T4 5G (Emerald Blaze, 128 GB)', 'price': '₹20,999', 'rating': '4.5'}\n",
      "{'name': 'realme P3 Pro 5G (Galaxy Purple, 256 GB)', 'price': '₹16,999', 'rating': '4.4'}\n",
      "{'name': 'OnePlus Nord CE4 lite 5G (SUPER SILVER, 128 GB)', 'price': '₹16,408', 'rating': '4.4'}\n",
      "{'name': 'Tecno Pova 7 5G (Oasis Green, 256 GB)', 'price': '₹15,999', 'rating': '4.4'}\n",
      "{'name': 'Samsung Galaxy S24 5G Snapdragon (Onyx Black, 128 GB)', 'price': '₹39,999', 'rating': '4.6'}\n",
      "Scraping complete. Data saved to flipkart_sample1.csv\n"
     ]
    }
   ],
   "source": [
    "output_csv = 'flipkart_sample1.csv'\n",
    "\n",
    "# Initialize CSV file with headers\n",
    "# columns = ['name', 'price', 'rating']\n",
    "# pd.DataFrame(columns=columns).to_csv(output_csv, index=False)\n",
    "\n",
    "for page in range(5,10):\n",
    "    url = f'https://www.flipkart.com/search?q=mobile+phones&otracker=search&otracker1=search&marketplace=FLIPKART&as-show=on&as=off&page={page}'\n",
    "    driver.get(url)\n",
    "    time.sleep(1)\n",
    "    driver.maximize_window()\n",
    "    data_full = []\n",
    "    containers = driver.find_elements(By.CSS_SELECTOR,'div[class=\"yKfJKb row\"]')\n",
    "    for container in containers:\n",
    "        name = container.find_element(By.CSS_SELECTOR,'div[class=\"KzDlHZ\"]').text.strip()\n",
    "        #print(name)\n",
    "        price = container.find_element(By.CSS_SELECTOR,'div[class=\"Nx9bqj _4b5DiR\"]').text.strip()\n",
    "        #print(price)\n",
    "        rating = container.find_element(By.CSS_SELECTOR,'div[class=\"XQDdHH\"]').text.strip()\n",
    "        #print(rating)\n",
    "        data = {'name':name,'price':price,'rating':rating}\n",
    "        data_full.append(data)\n",
    "        print(data)\n",
    "    # Convert to DataFrame and append to CSV\n",
    "    page_df = pd.DataFrame(data_full)\n",
    "    page_df.to_csv(output_csv, mode='a', header=False, index=False)\n",
    "\n",
    "    # Optional: sleep a bit between requests\n",
    "    time.sleep(1)\n",
    "\n",
    "    print(f\"Scraping complete. Data saved to {output_csv}\")\n",
    "    \n"
   ]
  },
  {
   "cell_type": "code",
   "execution_count": 35,
   "id": "2a9cb72b",
   "metadata": {},
   "outputs": [
    {
     "data": {
      "text/html": [
       "<div>\n",
       "<style scoped>\n",
       "    .dataframe tbody tr th:only-of-type {\n",
       "        vertical-align: middle;\n",
       "    }\n",
       "\n",
       "    .dataframe tbody tr th {\n",
       "        vertical-align: top;\n",
       "    }\n",
       "\n",
       "    .dataframe thead th {\n",
       "        text-align: right;\n",
       "    }\n",
       "</style>\n",
       "<table border=\"1\" class=\"dataframe\">\n",
       "  <thead>\n",
       "    <tr style=\"text-align: right;\">\n",
       "      <th></th>\n",
       "    </tr>\n",
       "  </thead>\n",
       "  <tbody>\n",
       "  </tbody>\n",
       "</table>\n",
       "</div>"
      ],
      "text/plain": [
       "Empty DataFrame\n",
       "Columns: []\n",
       "Index: []"
      ]
     },
     "execution_count": 35,
     "metadata": {},
     "output_type": "execute_result"
    }
   ],
   "source": [
    "page_df"
   ]
  }
 ],
 "metadata": {
  "kernelspec": {
   "display_name": "conda_env",
   "language": "python",
   "name": "python3"
  },
  "language_info": {
   "codemirror_mode": {
    "name": "ipython",
    "version": 3
   },
   "file_extension": ".py",
   "mimetype": "text/x-python",
   "name": "python",
   "nbconvert_exporter": "python",
   "pygments_lexer": "ipython3",
   "version": "3.11.13"
  }
 },
 "nbformat": 4,
 "nbformat_minor": 5
}
